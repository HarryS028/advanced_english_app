{
 "cells": [
  {
   "cell_type": "code",
   "execution_count": 1,
   "metadata": {},
   "outputs": [],
   "source": [
    "import pandas as pd\n",
    "import re\n",
    "import string"
   ]
  },
  {
   "cell_type": "code",
   "execution_count": 2,
   "metadata": {},
   "outputs": [],
   "source": [
    "df = pd.read_csv(r'C:\\Users\\Harry\\Python\\words_app\\Dictionary in csv\\A.csv', encoding='unicode_escape', names=[\"Raw Data\"])"
   ]
  },
  {
   "cell_type": "code",
   "execution_count": 3,
   "metadata": {},
   "outputs": [],
   "source": [
    "s = list(set(string.ascii_uppercase))\n",
    "column_names = ['Raw Data']\n",
    "df = pd.DataFrame(columns = column_names)\n",
    "# Loop through all spreadsheets and combine them\n",
    "for i in range(len(s)):\n",
    "    file_string = 'C:\\\\Users\\\\Harry\\\\Python\\\\words_app\\\\Dictionary in csv\\\\' + s[i] + '.csv'\n",
    "    latest_df = pd.read_csv(file_string, encoding='unicode_escape', names=[\"Raw Data\"])\n",
    "    df = df.append(latest_df)"
   ]
  },
  {
   "cell_type": "code",
   "execution_count": 4,
   "metadata": {},
   "outputs": [],
   "source": [
    "# Split Words, types, and meanings\n",
    "word_regex = '.+?(?= \\()'\n",
    "type_regex = '\\(.+\\)'\n",
    "description_regex = '(?<=\\) ).+'\n",
    "df['Word'] = df['Raw Data'].str.findall(word_regex)\n",
    "df['Type'] = df['Raw Data'].str.findall(type_regex)\n",
    "df['Meaning'] = df['Raw Data'].str.findall(description_regex)\n",
    "\n",
    "df['Word'] = [','.join(map(str, l)) for l in df['Word']]\n",
    "df['Type'] = [','.join(map(str, l)) for l in df['Type']]\n",
    "df['Meaning'] = [','.join(map(str, l)) for l in df['Meaning']]\n",
    "\n",
    "df.drop(columns=['Raw Data'], inplace = True)"
   ]
  },
  {
   "cell_type": "code",
   "execution_count": 5,
   "metadata": {},
   "outputs": [],
   "source": [
    "# Group types and definitions by words and remove duplicates\n",
    "df['Type'] = df[['Word','Type','Meaning']].groupby(['Word'])['Type'].transform(lambda x: ','.join(x))\n",
    "df['Meaning'] = df[['Word','Type','Meaning']].groupby(['Word'])['Meaning'].transform(lambda x: ','.join(x))\n",
    "\n",
    "df.drop_duplicates(subset=['Word'], keep='first', inplace=True)\n",
    "df = df.reset_index(drop=True) # Doesn't seem to work\n",
    "\n",
    "df = df[df['Word'].apply(lambda x: len(x) < 30)]"
   ]
  },
  {
   "cell_type": "code",
   "execution_count": 6,
   "metadata": {},
   "outputs": [],
   "source": [
    "# Clean up Type column\n",
    "df['Type'] = df['Type'].str.split(',').apply(set).str.join(',')\n",
    "df['Type'] = df['Type'].str.findall('\\(.*?\\)')\n",
    "df['Type'] = df['Type'].apply(str).str[1:-1]"
   ]
  },
  {
   "cell_type": "code",
   "execution_count": 7,
   "metadata": {},
   "outputs": [
    {
     "data": {
      "text/html": [
       "<div>\n",
       "<style scoped>\n",
       "    .dataframe tbody tr th:only-of-type {\n",
       "        vertical-align: middle;\n",
       "    }\n",
       "\n",
       "    .dataframe tbody tr th {\n",
       "        vertical-align: top;\n",
       "    }\n",
       "\n",
       "    .dataframe thead th {\n",
       "        text-align: right;\n",
       "    }\n",
       "</style>\n",
       "<table border=\"1\" class=\"dataframe\">\n",
       "  <thead>\n",
       "    <tr style=\"text-align: right;\">\n",
       "      <th></th>\n",
       "      <th>Word</th>\n",
       "      <th>Type</th>\n",
       "      <th>Meaning</th>\n",
       "    </tr>\n",
       "  </thead>\n",
       "  <tbody>\n",
       "    <tr>\n",
       "      <td>2</td>\n",
       "      <td>A</td>\n",
       "      <td>'(prep.)'</td>\n",
       "      <td>An adjective, commonly called the indefinite a...</td>\n",
       "    </tr>\n",
       "    <tr>\n",
       "      <td>6</td>\n",
       "      <td>Aam</td>\n",
       "      <td>'(n.)'</td>\n",
       "      <td>A Dutch and German measure of liquids, varying...</td>\n",
       "    </tr>\n",
       "    <tr>\n",
       "      <td>7</td>\n",
       "      <td>Aard-vark</td>\n",
       "      <td>'(n.)'</td>\n",
       "      <td>An edentate mammal, of the genus Orycteropus, ...</td>\n",
       "    </tr>\n",
       "    <tr>\n",
       "      <td>9</td>\n",
       "      <td>Aaronic</td>\n",
       "      <td>'(a.)'</td>\n",
       "      <td>Alt. of Aaronical</td>\n",
       "    </tr>\n",
       "    <tr>\n",
       "      <td>10</td>\n",
       "      <td>Aaronical</td>\n",
       "      <td>'(a.)'</td>\n",
       "      <td>Pertaining to Aaron, the first high priest of ...</td>\n",
       "    </tr>\n",
       "    <tr>\n",
       "      <td>...</td>\n",
       "      <td>...</td>\n",
       "      <td>...</td>\n",
       "      <td>...</td>\n",
       "    </tr>\n",
       "    <tr>\n",
       "      <td>114695</td>\n",
       "      <td>Myxomata</td>\n",
       "      <td>'(pl. )'</td>\n",
       "      <td>of Myxoma</td>\n",
       "    </tr>\n",
       "    <tr>\n",
       "      <td>114696</td>\n",
       "      <td>Myxoma</td>\n",
       "      <td>'(n.)'</td>\n",
       "      <td>A tumor made up of a gelatinous tissue resembl...</td>\n",
       "    </tr>\n",
       "    <tr>\n",
       "      <td>114697</td>\n",
       "      <td>Myxopod</td>\n",
       "      <td>'(n.)'</td>\n",
       "      <td>A rhizopod or moneran. Also used adjectively; ...</td>\n",
       "    </tr>\n",
       "    <tr>\n",
       "      <td>114698</td>\n",
       "      <td>Myzontes</td>\n",
       "      <td>'(n. pl.)'</td>\n",
       "      <td>The Marsipobranchiata.</td>\n",
       "    </tr>\n",
       "    <tr>\n",
       "      <td>114699</td>\n",
       "      <td>Myzostomata</td>\n",
       "      <td>'(n. pl.)'</td>\n",
       "      <td>An order of curious parasitic worms found on c...</td>\n",
       "    </tr>\n",
       "  </tbody>\n",
       "</table>\n",
       "<p>109331 rows × 3 columns</p>\n",
       "</div>"
      ],
      "text/plain": [
       "               Word        Type  \\\n",
       "2                 A   '(prep.)'   \n",
       "6               Aam      '(n.)'   \n",
       "7         Aard-vark      '(n.)'   \n",
       "9           Aaronic      '(a.)'   \n",
       "10        Aaronical      '(a.)'   \n",
       "...             ...         ...   \n",
       "114695     Myxomata    '(pl. )'   \n",
       "114696       Myxoma      '(n.)'   \n",
       "114697      Myxopod      '(n.)'   \n",
       "114698     Myzontes  '(n. pl.)'   \n",
       "114699  Myzostomata  '(n. pl.)'   \n",
       "\n",
       "                                                  Meaning  \n",
       "2       An adjective, commonly called the indefinite a...  \n",
       "6       A Dutch and German measure of liquids, varying...  \n",
       "7       An edentate mammal, of the genus Orycteropus, ...  \n",
       "9                                       Alt. of Aaronical  \n",
       "10      Pertaining to Aaron, the first high priest of ...  \n",
       "...                                                   ...  \n",
       "114695                                          of Myxoma  \n",
       "114696  A tumor made up of a gelatinous tissue resembl...  \n",
       "114697  A rhizopod or moneran. Also used adjectively; ...  \n",
       "114698                             The Marsipobranchiata.  \n",
       "114699  An order of curious parasitic worms found on c...  \n",
       "\n",
       "[109331 rows x 3 columns]"
      ]
     },
     "execution_count": 7,
     "metadata": {},
     "output_type": "execute_result"
    }
   ],
   "source": [
    "df"
   ]
  },
  {
   "cell_type": "code",
   "execution_count": 8,
   "metadata": {},
   "outputs": [],
   "source": [
    "# Output to csv for testing\n",
    "df.to_csv(r'C:\\Users\\Harry\\Python\\words_app\\test_dictionary.csv', encoding='UTF-8')"
   ]
  },
  {
   "cell_type": "code",
   "execution_count": 9,
   "metadata": {},
   "outputs": [],
   "source": [
    "# Remove everything with more than 30 characters\n",
    "# Merge words and meanings\n",
    "# Save entire dictionary seperate from game dictionary\n",
    "# Remove words with less than x characters\n",
    "# Create loop to do this over all csvs in folder, appending them all to one dataframe"
   ]
  }
 ],
 "metadata": {
  "kernelspec": {
   "display_name": "Python 3",
   "language": "python",
   "name": "python3"
  },
  "language_info": {
   "codemirror_mode": {
    "name": "ipython",
    "version": 3
   },
   "file_extension": ".py",
   "mimetype": "text/x-python",
   "name": "python",
   "nbconvert_exporter": "python",
   "pygments_lexer": "ipython3",
   "version": "3.7.4"
  }
 },
 "nbformat": 4,
 "nbformat_minor": 2
}
